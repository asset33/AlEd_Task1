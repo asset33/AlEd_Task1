{
 "cells": [
  {
   "cell_type": "markdown",
   "id": "e6789724-64de-45d4-94f2-b11b639ff54d",
   "metadata": {},
   "source": [
    "# Abalone Project"
   ]
  },
  {
   "cell_type": "markdown",
   "id": "13d5cb94-d766-4cd0-9ab2-fc182b460b80",
   "metadata": {},
   "source": [
    "## 1. Project Description"
   ]
  },
  {
   "cell_type": "markdown",
   "id": "780c41bb-bf05-4b0d-9081-90a5fd5329b4",
   "metadata": {},
   "source": [
    "Predicting the age of abalone from physical measurements.  The age of abalone is determined by cutting the shell through the cone, staining it, and counting the number of rings through a microscope -- a boring and time-consuming task.  "
   ]
  },
  {
   "cell_type": "markdown",
   "id": "8f69bad9-ebd1-4124-9308-e1eea2eda582",
   "metadata": {},
   "source": [
    "**Columns:** \n",
    "\n",
    "**Sex** - nominal - M, F, and I (infant)\n",
    "\n",
    "**Length** - continuous - mm - Longest shell measurement\n",
    "\n",
    "**Diameter** - continuous - mm - perpendicular to length\n",
    "\n",
    "**Height** - continuous - mm - with meat in shell\n",
    "\n",
    "**Whole weight** - continuous - grams - whole abalone\n",
    "\n",
    "**Shucked weight** - continuous - grams - weight of meat\n",
    "\n",
    "**Viscera weight** - continuous - grams - gut weight (after bleeding)\n",
    "\n",
    "**Shell weight** - continuous - grams - after being dried\n",
    "\n",
    "**Rings** - integer - +1.5 gives the age in years (target)"
   ]
  },
  {
   "cell_type": "markdown",
   "id": "fbb37a79-adb7-49c5-80ef-86bcc12fe8b1",
   "metadata": {},
   "source": [
    "Необходимо предсказать возраст моллюска на основании его физических характеристик. Возраст определяется как количество колец +1,5"
   ]
  },
  {
   "cell_type": "markdown",
   "id": "cc8dbe64-cfb7-4481-8bfd-569b89320301",
   "metadata": {},
   "source": [
    "## 2. EDA"
   ]
  },
  {
   "cell_type": "code",
   "execution_count": 140,
   "id": "27eb0205-3756-4c01-860e-d7fd92e68b82",
   "metadata": {},
   "outputs": [],
   "source": [
    "# import libraries\n",
    "import numpy as np\n",
    "import pandas as pd\n",
    "import matplotlib.pyplot as plt\n",
    "import seaborn as sns\n",
    "\n",
    "import warnings\n",
    "warnings.filterwarnings('ignore')"
   ]
  },
  {
   "cell_type": "code",
   "execution_count": 142,
   "id": "96fb4fd4-9694-44eb-b423-62e47ce9d21c",
   "metadata": {},
   "outputs": [],
   "source": [
    "# load the data\n",
    "ABALON_DATASET = \"https://raw.githubusercontent.com/aiedu-courses/stepik_eda_and_dev_tools/main/datasets/abalone.csv\"\n",
    "df = pd.read_csv(ABALON_DATASET)"
   ]
  },
  {
   "cell_type": "markdown",
   "id": "79353e08-920f-410e-b75d-5881b1f1a64e",
   "metadata": {},
   "source": [
    "##### Задание 1. Общее исследование данных"
   ]
  },
  {
   "cell_type": "markdown",
   "id": "4f4a030c-aac2-4c94-bc17-0a5d4cf444a5",
   "metadata": {},
   "source": [
    "В таблице 9 столбцов и 4 177 строк"
   ]
  },
  {
   "cell_type": "code",
   "execution_count": 150,
   "id": "343be766-63d6-473f-9ba8-8953b9e88169",
   "metadata": {},
   "outputs": [
    {
     "data": {
      "text/plain": [
       "(4177, 9)"
      ]
     },
     "execution_count": 150,
     "metadata": {},
     "output_type": "execute_result"
    }
   ],
   "source": [
    "# проверить размеры таблицы\n",
    "df.shape"
   ]
  },
  {
   "cell_type": "code",
   "execution_count": 152,
   "id": "11c5376e-f3f6-4f27-a173-eb61caac1ca7",
   "metadata": {},
   "outputs": [
    {
     "data": {
      "text/html": [
       "<div>\n",
       "<style scoped>\n",
       "    .dataframe tbody tr th:only-of-type {\n",
       "        vertical-align: middle;\n",
       "    }\n",
       "\n",
       "    .dataframe tbody tr th {\n",
       "        vertical-align: top;\n",
       "    }\n",
       "\n",
       "    .dataframe thead th {\n",
       "        text-align: right;\n",
       "    }\n",
       "</style>\n",
       "<table border=\"1\" class=\"dataframe\">\n",
       "  <thead>\n",
       "    <tr style=\"text-align: right;\">\n",
       "      <th></th>\n",
       "      <th>Sex</th>\n",
       "      <th>Length</th>\n",
       "      <th>Diameter</th>\n",
       "      <th>Height</th>\n",
       "      <th>Whole weight</th>\n",
       "      <th>Shucked weight</th>\n",
       "      <th>Viscera weight</th>\n",
       "      <th>Shell weight</th>\n",
       "      <th>Rings</th>\n",
       "    </tr>\n",
       "  </thead>\n",
       "  <tbody>\n",
       "    <tr>\n",
       "      <th>0</th>\n",
       "      <td>M</td>\n",
       "      <td>0.455</td>\n",
       "      <td>0.365</td>\n",
       "      <td>0.095</td>\n",
       "      <td>0.5140</td>\n",
       "      <td>0.2245</td>\n",
       "      <td>0.1010</td>\n",
       "      <td>0.150</td>\n",
       "      <td>15</td>\n",
       "    </tr>\n",
       "    <tr>\n",
       "      <th>1</th>\n",
       "      <td>M</td>\n",
       "      <td>0.350</td>\n",
       "      <td>0.265</td>\n",
       "      <td>0.090</td>\n",
       "      <td>0.2255</td>\n",
       "      <td>0.0995</td>\n",
       "      <td>0.0485</td>\n",
       "      <td>0.070</td>\n",
       "      <td>7</td>\n",
       "    </tr>\n",
       "    <tr>\n",
       "      <th>2</th>\n",
       "      <td>F</td>\n",
       "      <td>0.530</td>\n",
       "      <td>0.420</td>\n",
       "      <td>0.135</td>\n",
       "      <td>0.6770</td>\n",
       "      <td>0.2565</td>\n",
       "      <td>0.1415</td>\n",
       "      <td>0.210</td>\n",
       "      <td>9</td>\n",
       "    </tr>\n",
       "    <tr>\n",
       "      <th>3</th>\n",
       "      <td>M</td>\n",
       "      <td>0.440</td>\n",
       "      <td>0.365</td>\n",
       "      <td>0.125</td>\n",
       "      <td>NaN</td>\n",
       "      <td>0.2155</td>\n",
       "      <td>0.1140</td>\n",
       "      <td>0.155</td>\n",
       "      <td>10</td>\n",
       "    </tr>\n",
       "    <tr>\n",
       "      <th>4</th>\n",
       "      <td>I</td>\n",
       "      <td>0.330</td>\n",
       "      <td>0.255</td>\n",
       "      <td>0.080</td>\n",
       "      <td>0.2050</td>\n",
       "      <td>0.0895</td>\n",
       "      <td>0.0395</td>\n",
       "      <td>0.055</td>\n",
       "      <td>7</td>\n",
       "    </tr>\n",
       "  </tbody>\n",
       "</table>\n",
       "</div>"
      ],
      "text/plain": [
       "  Sex  Length  Diameter  Height  Whole weight  Shucked weight  Viscera weight  \\\n",
       "0   M   0.455     0.365   0.095        0.5140          0.2245          0.1010   \n",
       "1   M   0.350     0.265   0.090        0.2255          0.0995          0.0485   \n",
       "2   F   0.530     0.420   0.135        0.6770          0.2565          0.1415   \n",
       "3   M   0.440     0.365   0.125           NaN          0.2155          0.1140   \n",
       "4   I   0.330     0.255   0.080        0.2050          0.0895          0.0395   \n",
       "\n",
       "   Shell weight  Rings  \n",
       "0         0.150     15  \n",
       "1         0.070      7  \n",
       "2         0.210      9  \n",
       "3         0.155     10  \n",
       "4         0.055      7  "
      ]
     },
     "execution_count": 152,
     "metadata": {},
     "output_type": "execute_result"
    }
   ],
   "source": [
    "df.head()"
   ]
  },
  {
   "cell_type": "code",
   "execution_count": 154,
   "id": "c77dda59-26d1-4e77-80f0-38b04a74e14c",
   "metadata": {},
   "outputs": [
    {
     "name": "stdout",
     "output_type": "stream",
     "text": [
      "<class 'pandas.core.frame.DataFrame'>\n",
      "RangeIndex: 4177 entries, 0 to 4176\n",
      "Data columns (total 9 columns):\n",
      " #   Column          Non-Null Count  Dtype  \n",
      "---  ------          --------------  -----  \n",
      " 0   Sex             4177 non-null   object \n",
      " 1   Length          4177 non-null   float64\n",
      " 2   Diameter        4078 non-null   float64\n",
      " 3   Height          4177 non-null   float64\n",
      " 4   Whole weight    4078 non-null   float64\n",
      " 5   Shucked weight  4177 non-null   float64\n",
      " 6   Viscera weight  4177 non-null   float64\n",
      " 7   Shell weight    4127 non-null   float64\n",
      " 8   Rings           4177 non-null   int64  \n",
      "dtypes: float64(7), int64(1), object(1)\n",
      "memory usage: 293.8+ KB\n"
     ]
    }
   ],
   "source": [
    "df.info()"
   ]
  },
  {
   "cell_type": "markdown",
   "id": "25704d2d-cfcc-4d86-981e-763e05cd74a5",
   "metadata": {},
   "source": [
    "У нас есть пропущенные значения в столцах Diameter, Whole weight, Shell weight, которые не превышают 3% от всего датасета."
   ]
  },
  {
   "cell_type": "code",
   "execution_count": 157,
   "id": "d963dfa4-9c44-470b-a4d5-5541e9410cfc",
   "metadata": {},
   "outputs": [
    {
     "data": {
      "text/plain": [
       "Sex                0\n",
       "Length             0\n",
       "Diameter          99\n",
       "Height             0\n",
       "Whole weight      99\n",
       "Shucked weight     0\n",
       "Viscera weight     0\n",
       "Shell weight      50\n",
       "Rings              0\n",
       "dtype: int64"
      ]
     },
     "execution_count": 157,
     "metadata": {},
     "output_type": "execute_result"
    }
   ],
   "source": [
    "# количество пропусков в столбцах\n",
    "df.isna().sum()"
   ]
  },
  {
   "cell_type": "code",
   "execution_count": 159,
   "id": "1f6abd42-4eef-49c7-9fcf-25a7aca662e9",
   "metadata": {},
   "outputs": [
    {
     "data": {
      "text/plain": [
       "Sex               0.000000\n",
       "Length            0.000000\n",
       "Diameter          2.370122\n",
       "Height            0.000000\n",
       "Whole weight      2.370122\n",
       "Shucked weight    0.000000\n",
       "Viscera weight    0.000000\n",
       "Shell weight      1.197031\n",
       "Rings             0.000000\n",
       "dtype: float64"
      ]
     },
     "execution_count": 159,
     "metadata": {},
     "output_type": "execute_result"
    }
   ],
   "source": [
    "# все пропуски меньше 5%\n",
    "df.isnull().mean() * 100"
   ]
  },
  {
   "cell_type": "markdown",
   "id": "9995e87e-9a06-4b19-a375-b307c550cec0",
   "metadata": {},
   "source": [
    "##### Задание 2. Однофакторный анализ"
   ]
  },
  {
   "cell_type": "markdown",
   "id": "c089f943-a969-449d-a556-50933a58f5ad",
   "metadata": {},
   "source": [
    "Все данные в той или иной мере напоминают нормальное распределение. В колонке Height есть выбросы."
   ]
  },
  {
   "cell_type": "code",
   "execution_count": 163,
   "id": "37b3e17a-b10f-4b06-8c5c-b88c459f153a",
   "metadata": {},
   "outputs": [
    {
     "data": {
      "image/png": "[encoded data removed]",
      "text/plain": [
       "<Figure size 1000x800 with 9 Axes>"
      ]
     },
     "metadata": {},
     "output_type": "display_data"
    }
   ],
   "source": [
    "# по каждому столбцу посмотреть его распределение\n",
    "df.hist(bins=100, figsize=(10,8));"
   ]
  },
  {
   "cell_type": "markdown",
   "id": "6b29b216-9eff-4a67-958e-2358db7cabdb",
   "metadata": {},
   "source": [
    "Все пропущенные данные были заменены на медианные по колонке"
   ]
  },
  {
   "cell_type": "code",
   "execution_count": 16,
   "id": "a252e604-c3bb-41de-a8d1-f7a9231b5c35",
   "metadata": {},
   "outputs": [
    {
     "name": "stdout",
     "output_type": "stream",
     "text": [
      "<class 'pandas.core.frame.DataFrame'>\n",
      "RangeIndex: 4177 entries, 0 to 4176\n",
      "Data columns (total 9 columns):\n",
      " #   Column          Non-Null Count  Dtype  \n",
      "---  ------          --------------  -----  \n",
      " 0   Sex             4177 non-null   object \n",
      " 1   Length          4177 non-null   float64\n",
      " 2   Diameter        4177 non-null   float64\n",
      " 3   Height          4177 non-null   float64\n",
      " 4   Whole weight    4177 non-null   float64\n",
      " 5   Shucked weight  4177 non-null   float64\n",
      " 6   Viscera weight  4177 non-null   float64\n",
      " 7   Shell weight    4177 non-null   float64\n",
      " 8   Rings           4177 non-null   int64  \n",
      "dtypes: float64(7), int64(1), object(1)\n",
      "memory usage: 293.8+ KB\n"
     ]
    }
   ],
   "source": [
    "#Если есть пропуски и ошибочные значения - обработать их. \n",
    "median_diam = df['Diameter'].median()\n",
    "median_whole = df['Whole weight'].median()\n",
    "median_shell = df['Shell weight'].median()\n",
    "df['Diameter'].fillna(median_diam, inplace=True)\n",
    "df['Whole weight'].fillna(median_whole, inplace=True)\n",
    "df['Shell weight'].fillna(median_shell, inplace=True)\n",
    "df.info()"
   ]
  },
  {
   "cell_type": "markdown",
   "id": "ff724e38-2d58-40d4-bdf4-090e6ce593bb",
   "metadata": {},
   "source": [
    "В колонке Sex у нас есть несоответствие в регистре букв, скорректировано"
   ]
  },
  {
   "cell_type": "code",
   "execution_count": 168,
   "id": "05841485-1d50-4c98-9b49-d69173ec5708",
   "metadata": {},
   "outputs": [
    {
     "data": {
      "text/plain": [
       "array(['M', 'F', 'I', 'f'], dtype=object)"
      ]
     },
     "execution_count": 168,
     "metadata": {},
     "output_type": "execute_result"
    }
   ],
   "source": [
    "df.Sex.unique()"
   ]
  },
  {
   "cell_type": "code",
   "execution_count": 170,
   "id": "1c475fe3-93e8-4afa-9fec-7c5d9d0e5dc5",
   "metadata": {},
   "outputs": [],
   "source": [
    "df['Sex']=df['Sex'].str.replace('f','F')"
   ]
  },
  {
   "cell_type": "markdown",
   "id": "34bc4bc5-c26d-4364-b6fb-782d308a220c",
   "metadata": {},
   "source": [
    "По-видимому, есть линейная связь между диаметром моллюска и его возрастом"
   ]
  },
  {
   "cell_type": "code",
   "execution_count": 174,
   "id": "7a9d9926-fbed-41bb-8342-921612ebd81c",
   "metadata": {},
   "outputs": [
    {
     "data": {
      "image/png": "[encoded data removed]",
      "text/plain": [
       "<Figure size 600x400 with 1 Axes>"
      ]
     },
     "metadata": {},
     "output_type": "display_data"
    }
   ],
   "source": [
    "# Посмотреть связь с целевой переменной\n",
    "plt.figure(figsize=(6,4))\n",
    "plt.scatter(df.Diameter, df.Rings);"
   ]
  },
  {
   "cell_type": "markdown",
   "id": "71f15602-7a08-4e94-8b80-713ad8803dd0",
   "metadata": {},
   "source": [
    "##### Задание 3. Построить матрицу корреляций"
   ]
  },
  {
   "cell_type": "markdown",
   "id": "01b13ec5-deda-4236-8781-021e640452f6",
   "metadata": {},
   "source": [
    "Наша целевая переменная Rings больше всего коррелирована с весом раковины. Многие физические характеристики сильно коррелированы между собой."
   ]
  },
  {
   "cell_type": "code",
   "execution_count": 176,
   "id": "6a43ab0b-00a7-4d0e-a6f9-a417f9a3592f",
   "metadata": {},
   "outputs": [
    {
     "data": {
      "text/plain": [
       "<Axes: >"
      ]
     },
     "execution_count": 176,
     "metadata": {},
     "output_type": "execute_result"
    },
    {
     "data": {
      "image/png": "[encoded data removed]",
      "text/plain": [
       "<Figure size 640x480 with 2 Axes>"
      ]
     },
     "metadata": {},
     "output_type": "display_data"
    }
   ],
   "source": [
    "corr = df.corr(numeric_only=True) # матрица корреляций\n",
    "sns.heatmap(corr, cmap=\"Blues\", annot=True)"
   ]
  },
  {
   "cell_type": "markdown",
   "id": "be3ca6dd-1f8b-46b7-a82f-a2733a011562",
   "metadata": {},
   "source": [
    "Все числовые характеристики коррелированы с полом моллюска."
   ]
  },
  {
   "cell_type": "code",
   "execution_count": 178,
   "id": "7e5f08b7-9157-4415-8c25-ed8403302275",
   "metadata": {},
   "outputs": [],
   "source": [
    "from scipy.stats import f_oneway"
   ]
  },
  {
   "cell_type": "code",
   "execution_count": 180,
   "id": "8cbf118b-dcd4-44bc-918d-cc7d4c152e3e",
   "metadata": {},
   "outputs": [
    {
     "data": {
      "text/html": [
       "<div>\n",
       "<style scoped>\n",
       "    .dataframe tbody tr th:only-of-type {\n",
       "        vertical-align: middle;\n",
       "    }\n",
       "\n",
       "    .dataframe tbody tr th {\n",
       "        vertical-align: top;\n",
       "    }\n",
       "\n",
       "    .dataframe thead th {\n",
       "        text-align: right;\n",
       "    }\n",
       "</style>\n",
       "<table border=\"1\" class=\"dataframe\">\n",
       "  <thead>\n",
       "    <tr style=\"text-align: right;\">\n",
       "      <th></th>\n",
       "      <th>Category</th>\n",
       "      <th>Numerical</th>\n",
       "      <th>Is correlated</th>\n",
       "    </tr>\n",
       "  </thead>\n",
       "  <tbody>\n",
       "    <tr>\n",
       "      <th>0</th>\n",
       "      <td>Sex</td>\n",
       "      <td>Length</td>\n",
       "      <td>Yes</td>\n",
       "    </tr>\n",
       "    <tr>\n",
       "      <th>1</th>\n",
       "      <td>Sex</td>\n",
       "      <td>Diameter</td>\n",
       "      <td>Yes</td>\n",
       "    </tr>\n",
       "    <tr>\n",
       "      <th>2</th>\n",
       "      <td>Sex</td>\n",
       "      <td>Height</td>\n",
       "      <td>Yes</td>\n",
       "    </tr>\n",
       "    <tr>\n",
       "      <th>3</th>\n",
       "      <td>Sex</td>\n",
       "      <td>Whole weight</td>\n",
       "      <td>Yes</td>\n",
       "    </tr>\n",
       "    <tr>\n",
       "      <th>4</th>\n",
       "      <td>Sex</td>\n",
       "      <td>Shucked weight</td>\n",
       "      <td>Yes</td>\n",
       "    </tr>\n",
       "    <tr>\n",
       "      <th>5</th>\n",
       "      <td>Sex</td>\n",
       "      <td>Viscera weight</td>\n",
       "      <td>Yes</td>\n",
       "    </tr>\n",
       "    <tr>\n",
       "      <th>6</th>\n",
       "      <td>Sex</td>\n",
       "      <td>Shell weight</td>\n",
       "      <td>Yes</td>\n",
       "    </tr>\n",
       "    <tr>\n",
       "      <th>7</th>\n",
       "      <td>Sex</td>\n",
       "      <td>Rings</td>\n",
       "      <td>Yes</td>\n",
       "    </tr>\n",
       "  </tbody>\n",
       "</table>\n",
       "</div>"
      ],
      "text/plain": [
       "  Category       Numerical Is correlated\n",
       "0      Sex          Length           Yes\n",
       "1      Sex        Diameter           Yes\n",
       "2      Sex          Height           Yes\n",
       "3      Sex    Whole weight           Yes\n",
       "4      Sex  Shucked weight           Yes\n",
       "5      Sex  Viscera weight           Yes\n",
       "6      Sex    Shell weight           Yes\n",
       "7      Sex           Rings           Yes"
      ]
     },
     "execution_count": 180,
     "metadata": {},
     "output_type": "execute_result"
    }
   ],
   "source": [
    "Data = []\n",
    "\n",
    "for c1 in df.columns:\n",
    "    for c2 in df.columns:\n",
    "        if df[c1].dtype == 'object' and df[c2].dtype != 'object':\n",
    "            CategoryGroupLists = df.groupby(c1)[c2].apply(list)\n",
    "            AnovaResults = f_oneway(*CategoryGroupLists)\n",
    "\n",
    "            if AnovaResults[1] >= 0.05:\n",
    "                Data.append({'Category' : c1, 'Numerical' : c2, 'Is correlated' : 'No'})\n",
    "            else:\n",
    "                Data.append({'Category' : c1, 'Numerical' : c2, 'Is correlated' : 'Yes'})\n",
    "\n",
    "AnovaRes = pd.DataFrame.from_dict(Data)\n",
    "AnovaRes"
   ]
  },
  {
   "cell_type": "markdown",
   "id": "f442178b-fc28-4bad-bfa9-8a0750bb7cc3",
   "metadata": {},
   "source": [
    "##### Задание 4. Провести анализ целевой переменной"
   ]
  },
  {
   "cell_type": "markdown",
   "id": "d9831e9e-6b88-4304-a589-40c0626e3bf4",
   "metadata": {},
   "source": [
    "Распределение целевой переменной похоже на нормальное распределение.\n",
    "Мы видим у распределения более длинный правый хвост, который может быть трудно прогнозируем моделями (так как там мало значений)."
   ]
  },
  {
   "cell_type": "code",
   "execution_count": 25,
   "id": "de91944e-37a4-4da0-b3e9-ffbc2d196b46",
   "metadata": {},
   "outputs": [
    {
     "data": {
      "text/plain": [
       "<Axes: xlabel='Rings', ylabel='Count'>"
      ]
     },
     "execution_count": 25,
     "metadata": {},
     "output_type": "execute_result"
    },
    {
     "data": {
      "image/png": "[encoded data removed]",
      "text/plain": [
       "<Figure size 600x300 with 1 Axes>"
      ]
     },
     "metadata": {},
     "output_type": "display_data"
    }
   ],
   "source": [
    "plt.figure(figsize=(6,3))\n",
    "sns.histplot(data = df['Rings'], kde = True)"
   ]
  },
  {
   "cell_type": "markdown",
   "id": "f3777928-cb72-46ef-baa8-d69063edaa0c",
   "metadata": {},
   "source": [
    "Наше распределение становится более похожим на нормальное при трансформации значений с помощью квадратичного корня."
   ]
  },
  {
   "cell_type": "code",
   "execution_count": 189,
   "id": "18629a8e-801a-4268-ab42-cd07765edc01",
   "metadata": {},
   "outputs": [
    {
     "data": {
      "text/plain": [
       "<Axes: xlabel='Rings', ylabel='Count'>"
      ]
     },
     "execution_count": 189,
     "metadata": {},
     "output_type": "execute_result"
    },
    {
     "data": {
      "image/png": "[encoded data removed]",
      "text/plain": [
       "<Figure size 600x300 with 1 Axes>"
      ]
     },
     "metadata": {},
     "output_type": "display_data"
    }
   ],
   "source": [
    "plt.figure(figsize=(6,3))\n",
    "sns.histplot(data = np.sqrt(df['Rings']), kde = True)"
   ]
  },
  {
   "cell_type": "markdown",
   "id": "2ba0a765-7268-4071-8349-58b98f0b5063",
   "metadata": {},
   "source": [
    "##### Задание 5. Провести сравнение скорости работы Pandas и Polars на увеличенном датасете"
   ]
  },
  {
   "cell_type": "markdown",
   "id": "c53b3634-9dbf-457e-bcf3-2ecb5d4360e7",
   "metadata": {},
   "source": [
    "Найдем, во сколько раз нужно увеличить датасет, чтобы получить 1000000 строк"
   ]
  },
  {
   "cell_type": "code",
   "execution_count": 119,
   "id": "2b29d34d-2891-45dc-b006-1d80e16c5299",
   "metadata": {},
   "outputs": [
    {
     "data": {
      "text/plain": [
       "239.40627244433804"
      ]
     },
     "execution_count": 119,
     "metadata": {},
     "output_type": "execute_result"
    }
   ],
   "source": [
    "1000000/df.shape[0]"
   ]
  },
  {
   "cell_type": "code",
   "execution_count": 121,
   "id": "7e1b3a09-3791-4057-8bf9-201a53a4e36b",
   "metadata": {},
   "outputs": [],
   "source": [
    "# Увеличить размер данных простым дублированием до 1_000_000 строк в датасете\n",
    "df_big = df.copy()\n",
    "\n",
    "for i in range(230):\n",
    "  df_big = pd.concat([df_big, df])\n",
    "\n",
    "df_big.to_csv(\"diamonds_big.csv\", index=False)"
   ]
  },
  {
   "cell_type": "code",
   "execution_count": 122,
   "id": "2ddb33cb-4817-4e65-aed4-eda3cbd0da29",
   "metadata": {},
   "outputs": [
    {
     "data": {
      "text/plain": [
       "((964887, 9), (4177, 9))"
      ]
     },
     "execution_count": 122,
     "metadata": {},
     "output_type": "execute_result"
    }
   ],
   "source": [
    "df_big.shape, df.shape"
   ]
  },
  {
   "cell_type": "code",
   "execution_count": 123,
   "id": "8bffe31c-46c3-4c2f-b5a1-96ce89df5e44",
   "metadata": {},
   "outputs": [
    {
     "name": "stdout",
     "output_type": "stream",
     "text": [
      "Requirement already satisfied: polars in c:\\users\\asset\\anaconda3\\lib\\site-packages (0.20.31)\n",
      "0.20.31\n"
     ]
    },
    {
     "name": "stderr",
     "output_type": "stream",
     "text": [
      "WARNING: Ignoring invalid distribution -umpy (c:\\users\\asset\\anaconda3\\lib\\site-packages)\n",
      "WARNING: Error parsing requirements for numpy: [Errno 2] No such file or directory: 'c:\\\\users\\\\asset\\\\anaconda3\\\\lib\\\\site-packages\\\\numpy-1.26.2.dist-info\\\\METADATA'\n",
      "WARNING: Ignoring invalid distribution -umpy (c:\\users\\asset\\anaconda3\\lib\\site-packages)\n"
     ]
    }
   ],
   "source": [
    "!pip install polars\n",
    "\n",
    "import polars as pl\n",
    "\n",
    "print(pl.__version__)"
   ]
  },
  {
   "cell_type": "markdown",
   "id": "b7cb924b-94ee-4265-be26-14e9a914eb90",
   "metadata": {},
   "source": [
    "**Загрузка данных**"
   ]
  },
  {
   "cell_type": "markdown",
   "id": "6c23225c-d5d8-4b01-9fd0-b5f33fda7d58",
   "metadata": {},
   "source": [
    "При загрузке данных библиотека Polars работает в несколько раз быстрее Pandas"
   ]
  },
  {
   "cell_type": "code",
   "execution_count": 127,
   "id": "6e95d0ad-3f22-4b94-8c58-2e1a7c2d66fb",
   "metadata": {},
   "outputs": [
    {
     "name": "stdout",
     "output_type": "stream",
     "text": [
      "Wall time: 435 ms\n"
     ]
    }
   ],
   "source": [
    "%%time\n",
    "# Pandas\n",
    "df_pd = pd.read_csv(\"diamonds_big.csv\")"
   ]
  },
  {
   "cell_type": "code",
   "execution_count": 129,
   "id": "e8d1a256-c778-420d-b8a3-e29d0f4e996f",
   "metadata": {},
   "outputs": [
    {
     "name": "stdout",
     "output_type": "stream",
     "text": [
      "Wall time: 58.2 ms\n"
     ]
    }
   ],
   "source": [
    "%%time\n",
    "# Polars\n",
    "df_pl = pl.read_csv(\"diamonds_big.csv\")"
   ]
  },
  {
   "cell_type": "markdown",
   "id": "c31acd8f-cb2b-46e6-aad4-618145f7b334",
   "metadata": {},
   "source": [
    "**Фильтрация данных**"
   ]
  },
  {
   "cell_type": "markdown",
   "id": "90de704b-1ecf-4650-8c90-cd9d816c4ebb",
   "metadata": {},
   "source": [
    "При фильтрации данных библиотека Polars работает в десятки раз быстрее Pandas"
   ]
  },
  {
   "cell_type": "code",
   "execution_count": 131,
   "id": "b888f4e6-15fd-4d1e-be19-174e1fbe9f41",
   "metadata": {},
   "outputs": [
    {
     "name": "stdout",
     "output_type": "stream",
     "text": [
      "Wall time: 39.6 ms\n"
     ]
    },
    {
     "data": {
      "text/html": [
       "<div>\n",
       "<style scoped>\n",
       "    .dataframe tbody tr th:only-of-type {\n",
       "        vertical-align: middle;\n",
       "    }\n",
       "\n",
       "    .dataframe tbody tr th {\n",
       "        vertical-align: top;\n",
       "    }\n",
       "\n",
       "    .dataframe thead th {\n",
       "        text-align: right;\n",
       "    }\n",
       "</style>\n",
       "<table border=\"1\" class=\"dataframe\">\n",
       "  <thead>\n",
       "    <tr style=\"text-align: right;\">\n",
       "      <th></th>\n",
       "      <th>Sex</th>\n",
       "      <th>Length</th>\n",
       "      <th>Diameter</th>\n",
       "      <th>Height</th>\n",
       "      <th>Whole weight</th>\n",
       "      <th>Shucked weight</th>\n",
       "      <th>Viscera weight</th>\n",
       "      <th>Shell weight</th>\n",
       "      <th>Rings</th>\n",
       "    </tr>\n",
       "  </thead>\n",
       "  <tbody>\n",
       "    <tr>\n",
       "      <th>294</th>\n",
       "      <td>M</td>\n",
       "      <td>0.600</td>\n",
       "      <td>0.495</td>\n",
       "      <td>0.195</td>\n",
       "      <td>1.0575</td>\n",
       "      <td>0.3840</td>\n",
       "      <td>0.190</td>\n",
       "      <td>0.375</td>\n",
       "      <td>26</td>\n",
       "    </tr>\n",
       "    <tr>\n",
       "      <th>2108</th>\n",
       "      <td>M</td>\n",
       "      <td>0.665</td>\n",
       "      <td>0.535</td>\n",
       "      <td>0.225</td>\n",
       "      <td>2.1835</td>\n",
       "      <td>0.7535</td>\n",
       "      <td>0.391</td>\n",
       "      <td>0.885</td>\n",
       "      <td>27</td>\n",
       "    </tr>\n",
       "    <tr>\n",
       "      <th>4471</th>\n",
       "      <td>M</td>\n",
       "      <td>0.600</td>\n",
       "      <td>0.495</td>\n",
       "      <td>0.195</td>\n",
       "      <td>1.0575</td>\n",
       "      <td>0.3840</td>\n",
       "      <td>0.190</td>\n",
       "      <td>0.375</td>\n",
       "      <td>26</td>\n",
       "    </tr>\n",
       "    <tr>\n",
       "      <th>6285</th>\n",
       "      <td>M</td>\n",
       "      <td>0.665</td>\n",
       "      <td>0.535</td>\n",
       "      <td>0.225</td>\n",
       "      <td>2.1835</td>\n",
       "      <td>0.7535</td>\n",
       "      <td>0.391</td>\n",
       "      <td>0.885</td>\n",
       "      <td>27</td>\n",
       "    </tr>\n",
       "    <tr>\n",
       "      <th>8648</th>\n",
       "      <td>M</td>\n",
       "      <td>0.600</td>\n",
       "      <td>0.495</td>\n",
       "      <td>0.195</td>\n",
       "      <td>1.0575</td>\n",
       "      <td>0.3840</td>\n",
       "      <td>0.190</td>\n",
       "      <td>0.375</td>\n",
       "      <td>26</td>\n",
       "    </tr>\n",
       "    <tr>\n",
       "      <th>...</th>\n",
       "      <td>...</td>\n",
       "      <td>...</td>\n",
       "      <td>...</td>\n",
       "      <td>...</td>\n",
       "      <td>...</td>\n",
       "      <td>...</td>\n",
       "      <td>...</td>\n",
       "      <td>...</td>\n",
       "      <td>...</td>\n",
       "    </tr>\n",
       "    <tr>\n",
       "      <th>954464</th>\n",
       "      <td>M</td>\n",
       "      <td>0.665</td>\n",
       "      <td>0.535</td>\n",
       "      <td>0.225</td>\n",
       "      <td>2.1835</td>\n",
       "      <td>0.7535</td>\n",
       "      <td>0.391</td>\n",
       "      <td>0.885</td>\n",
       "      <td>27</td>\n",
       "    </tr>\n",
       "    <tr>\n",
       "      <th>956827</th>\n",
       "      <td>M</td>\n",
       "      <td>0.600</td>\n",
       "      <td>0.495</td>\n",
       "      <td>0.195</td>\n",
       "      <td>1.0575</td>\n",
       "      <td>0.3840</td>\n",
       "      <td>0.190</td>\n",
       "      <td>0.375</td>\n",
       "      <td>26</td>\n",
       "    </tr>\n",
       "    <tr>\n",
       "      <th>958641</th>\n",
       "      <td>M</td>\n",
       "      <td>0.665</td>\n",
       "      <td>0.535</td>\n",
       "      <td>0.225</td>\n",
       "      <td>2.1835</td>\n",
       "      <td>0.7535</td>\n",
       "      <td>0.391</td>\n",
       "      <td>0.885</td>\n",
       "      <td>27</td>\n",
       "    </tr>\n",
       "    <tr>\n",
       "      <th>961004</th>\n",
       "      <td>M</td>\n",
       "      <td>0.600</td>\n",
       "      <td>0.495</td>\n",
       "      <td>0.195</td>\n",
       "      <td>1.0575</td>\n",
       "      <td>0.3840</td>\n",
       "      <td>0.190</td>\n",
       "      <td>0.375</td>\n",
       "      <td>26</td>\n",
       "    </tr>\n",
       "    <tr>\n",
       "      <th>962818</th>\n",
       "      <td>M</td>\n",
       "      <td>0.665</td>\n",
       "      <td>0.535</td>\n",
       "      <td>0.225</td>\n",
       "      <td>2.1835</td>\n",
       "      <td>0.7535</td>\n",
       "      <td>0.391</td>\n",
       "      <td>0.885</td>\n",
       "      <td>27</td>\n",
       "    </tr>\n",
       "  </tbody>\n",
       "</table>\n",
       "<p>462 rows × 9 columns</p>\n",
       "</div>"
      ],
      "text/plain": [
       "       Sex  Length  Diameter  Height  Whole weight  Shucked weight  \\\n",
       "294      M   0.600     0.495   0.195        1.0575          0.3840   \n",
       "2108     M   0.665     0.535   0.225        2.1835          0.7535   \n",
       "4471     M   0.600     0.495   0.195        1.0575          0.3840   \n",
       "6285     M   0.665     0.535   0.225        2.1835          0.7535   \n",
       "8648     M   0.600     0.495   0.195        1.0575          0.3840   \n",
       "...     ..     ...       ...     ...           ...             ...   \n",
       "954464   M   0.665     0.535   0.225        2.1835          0.7535   \n",
       "956827   M   0.600     0.495   0.195        1.0575          0.3840   \n",
       "958641   M   0.665     0.535   0.225        2.1835          0.7535   \n",
       "961004   M   0.600     0.495   0.195        1.0575          0.3840   \n",
       "962818   M   0.665     0.535   0.225        2.1835          0.7535   \n",
       "\n",
       "        Viscera weight  Shell weight  Rings  \n",
       "294              0.190         0.375     26  \n",
       "2108             0.391         0.885     27  \n",
       "4471             0.190         0.375     26  \n",
       "6285             0.391         0.885     27  \n",
       "8648             0.190         0.375     26  \n",
       "...                ...           ...    ...  \n",
       "954464           0.391         0.885     27  \n",
       "956827           0.190         0.375     26  \n",
       "958641           0.391         0.885     27  \n",
       "961004           0.190         0.375     26  \n",
       "962818           0.391         0.885     27  \n",
       "\n",
       "[462 rows x 9 columns]"
      ]
     },
     "execution_count": 131,
     "metadata": {},
     "output_type": "execute_result"
    }
   ],
   "source": [
    "%%time\n",
    "# Pandas\n",
    "df_pd[(df_pd.Rings > 25) & (df_pd.Sex == 'M')]"
   ]
  },
  {
   "cell_type": "code",
   "execution_count": 133,
   "id": "f9a9bd61-c088-4af8-be56-eb2a80608404",
   "metadata": {},
   "outputs": [
    {
     "name": "stdout",
     "output_type": "stream",
     "text": [
      "Wall time: 2.99 ms\n"
     ]
    },
    {
     "data": {
      "text/html": [
       "<div><style>\n",
       ".dataframe > thead > tr,\n",
       ".dataframe > tbody > tr {\n",
       "  text-align: right;\n",
       "  white-space: pre-wrap;\n",
       "}\n",
       "</style>\n",
       "<small>shape: (462, 9)</small><table border=\"1\" class=\"dataframe\"><thead><tr><th>Sex</th><th>Length</th><th>Diameter</th><th>Height</th><th>Whole weight</th><th>Shucked weight</th><th>Viscera weight</th><th>Shell weight</th><th>Rings</th></tr><tr><td>str</td><td>f64</td><td>f64</td><td>f64</td><td>f64</td><td>f64</td><td>f64</td><td>f64</td><td>i64</td></tr></thead><tbody><tr><td>&quot;M&quot;</td><td>0.6</td><td>0.495</td><td>0.195</td><td>1.0575</td><td>0.384</td><td>0.19</td><td>0.375</td><td>26</td></tr><tr><td>&quot;M&quot;</td><td>0.665</td><td>0.535</td><td>0.225</td><td>2.1835</td><td>0.7535</td><td>0.391</td><td>0.885</td><td>27</td></tr><tr><td>&quot;M&quot;</td><td>0.6</td><td>0.495</td><td>0.195</td><td>1.0575</td><td>0.384</td><td>0.19</td><td>0.375</td><td>26</td></tr><tr><td>&quot;M&quot;</td><td>0.665</td><td>0.535</td><td>0.225</td><td>2.1835</td><td>0.7535</td><td>0.391</td><td>0.885</td><td>27</td></tr><tr><td>&quot;M&quot;</td><td>0.6</td><td>0.495</td><td>0.195</td><td>1.0575</td><td>0.384</td><td>0.19</td><td>0.375</td><td>26</td></tr><tr><td>&hellip;</td><td>&hellip;</td><td>&hellip;</td><td>&hellip;</td><td>&hellip;</td><td>&hellip;</td><td>&hellip;</td><td>&hellip;</td><td>&hellip;</td></tr><tr><td>&quot;M&quot;</td><td>0.665</td><td>0.535</td><td>0.225</td><td>2.1835</td><td>0.7535</td><td>0.391</td><td>0.885</td><td>27</td></tr><tr><td>&quot;M&quot;</td><td>0.6</td><td>0.495</td><td>0.195</td><td>1.0575</td><td>0.384</td><td>0.19</td><td>0.375</td><td>26</td></tr><tr><td>&quot;M&quot;</td><td>0.665</td><td>0.535</td><td>0.225</td><td>2.1835</td><td>0.7535</td><td>0.391</td><td>0.885</td><td>27</td></tr><tr><td>&quot;M&quot;</td><td>0.6</td><td>0.495</td><td>0.195</td><td>1.0575</td><td>0.384</td><td>0.19</td><td>0.375</td><td>26</td></tr><tr><td>&quot;M&quot;</td><td>0.665</td><td>0.535</td><td>0.225</td><td>2.1835</td><td>0.7535</td><td>0.391</td><td>0.885</td><td>27</td></tr></tbody></table></div>"
      ],
      "text/plain": [
       "shape: (462, 9)\n",
       "┌─────┬────────┬──────────┬────────┬───┬────────────────┬────────────────┬──────────────┬───────┐\n",
       "│ Sex ┆ Length ┆ Diameter ┆ Height ┆ … ┆ Shucked weight ┆ Viscera weight ┆ Shell weight ┆ Rings │\n",
       "│ --- ┆ ---    ┆ ---      ┆ ---    ┆   ┆ ---            ┆ ---            ┆ ---          ┆ ---   │\n",
       "│ str ┆ f64    ┆ f64      ┆ f64    ┆   ┆ f64            ┆ f64            ┆ f64          ┆ i64   │\n",
       "╞═════╪════════╪══════════╪════════╪═══╪════════════════╪════════════════╪══════════════╪═══════╡\n",
       "│ M   ┆ 0.6    ┆ 0.495    ┆ 0.195  ┆ … ┆ 0.384          ┆ 0.19           ┆ 0.375        ┆ 26    │\n",
       "│ M   ┆ 0.665  ┆ 0.535    ┆ 0.225  ┆ … ┆ 0.7535         ┆ 0.391          ┆ 0.885        ┆ 27    │\n",
       "│ M   ┆ 0.6    ┆ 0.495    ┆ 0.195  ┆ … ┆ 0.384          ┆ 0.19           ┆ 0.375        ┆ 26    │\n",
       "│ M   ┆ 0.665  ┆ 0.535    ┆ 0.225  ┆ … ┆ 0.7535         ┆ 0.391          ┆ 0.885        ┆ 27    │\n",
       "│ M   ┆ 0.6    ┆ 0.495    ┆ 0.195  ┆ … ┆ 0.384          ┆ 0.19           ┆ 0.375        ┆ 26    │\n",
       "│ …   ┆ …      ┆ …        ┆ …      ┆ … ┆ …              ┆ …              ┆ …            ┆ …     │\n",
       "│ M   ┆ 0.665  ┆ 0.535    ┆ 0.225  ┆ … ┆ 0.7535         ┆ 0.391          ┆ 0.885        ┆ 27    │\n",
       "│ M   ┆ 0.6    ┆ 0.495    ┆ 0.195  ┆ … ┆ 0.384          ┆ 0.19           ┆ 0.375        ┆ 26    │\n",
       "│ M   ┆ 0.665  ┆ 0.535    ┆ 0.225  ┆ … ┆ 0.7535         ┆ 0.391          ┆ 0.885        ┆ 27    │\n",
       "│ M   ┆ 0.6    ┆ 0.495    ┆ 0.195  ┆ … ┆ 0.384          ┆ 0.19           ┆ 0.375        ┆ 26    │\n",
       "│ M   ┆ 0.665  ┆ 0.535    ┆ 0.225  ┆ … ┆ 0.7535         ┆ 0.391          ┆ 0.885        ┆ 27    │\n",
       "└─────┴────────┴──────────┴────────┴───┴────────────────┴────────────────┴──────────────┴───────┘"
      ]
     },
     "execution_count": 133,
     "metadata": {},
     "output_type": "execute_result"
    }
   ],
   "source": [
    "%%time\n",
    "# Polars\n",
    "df_pl.filter((pl.col('Rings') >25) & (pl.col('Sex') == 'M'))"
   ]
  },
  {
   "cell_type": "markdown",
   "id": "36f61f05-94d3-4da6-92b7-83943a6ad99d",
   "metadata": {},
   "source": [
    "**Агрегация данных**"
   ]
  },
  {
   "cell_type": "markdown",
   "id": "46376e91-7748-4114-8426-58da3491b1ae",
   "metadata": {},
   "source": [
    "При агрегации данных библиотека Polars работает немного быстрее Pandas"
   ]
  },
  {
   "cell_type": "code",
   "execution_count": 135,
   "id": "97b5e767-4b87-4548-b712-dda3dba71949",
   "metadata": {},
   "outputs": [
    {
     "name": "stdout",
     "output_type": "stream",
     "text": [
      "Wall time: 43.6 ms\n"
     ]
    },
    {
     "data": {
      "text/html": [
       "<div>\n",
       "<style scoped>\n",
       "    .dataframe tbody tr th:only-of-type {\n",
       "        vertical-align: middle;\n",
       "    }\n",
       "\n",
       "    .dataframe tbody tr th {\n",
       "        vertical-align: top;\n",
       "    }\n",
       "\n",
       "    .dataframe thead th {\n",
       "        text-align: right;\n",
       "    }\n",
       "</style>\n",
       "<table border=\"1\" class=\"dataframe\">\n",
       "  <thead>\n",
       "    <tr style=\"text-align: right;\">\n",
       "      <th></th>\n",
       "      <th>Rings</th>\n",
       "      <th>Diameter</th>\n",
       "    </tr>\n",
       "    <tr>\n",
       "      <th>Sex</th>\n",
       "      <th></th>\n",
       "      <th></th>\n",
       "    </tr>\n",
       "  </thead>\n",
       "  <tbody>\n",
       "    <tr>\n",
       "      <th>F</th>\n",
       "      <td>10.0</td>\n",
       "      <td>0.448652</td>\n",
       "    </tr>\n",
       "    <tr>\n",
       "      <th>I</th>\n",
       "      <td>8.0</td>\n",
       "      <td>0.328382</td>\n",
       "    </tr>\n",
       "    <tr>\n",
       "      <th>M</th>\n",
       "      <td>10.0</td>\n",
       "      <td>0.438072</td>\n",
       "    </tr>\n",
       "  </tbody>\n",
       "</table>\n",
       "</div>"
      ],
      "text/plain": [
       "     Rings  Diameter\n",
       "Sex                 \n",
       "F     10.0  0.448652\n",
       "I      8.0  0.328382\n",
       "M     10.0  0.438072"
      ]
     },
     "execution_count": 135,
     "metadata": {},
     "output_type": "execute_result"
    }
   ],
   "source": [
    "%%time\n",
    "# Pandas\n",
    "df_pd.groupby('Sex').agg({'Rings' : 'median', 'Diameter' : 'mean'})"
   ]
  },
  {
   "cell_type": "code",
   "execution_count": 137,
   "id": "5dbc6b41-6169-47be-b104-ada7a2e227a9",
   "metadata": {},
   "outputs": [
    {
     "name": "stdout",
     "output_type": "stream",
     "text": [
      "Wall time: 37.6 ms\n"
     ]
    },
    {
     "data": {
      "text/html": [
       "<div><style>\n",
       ".dataframe > thead > tr,\n",
       ".dataframe > tbody > tr {\n",
       "  text-align: right;\n",
       "  white-space: pre-wrap;\n",
       "}\n",
       "</style>\n",
       "<small>shape: (3, 3)</small><table border=\"1\" class=\"dataframe\"><thead><tr><th>Sex</th><th>Rings</th><th>Diameter</th></tr><tr><td>str</td><td>f64</td><td>f64</td></tr></thead><tbody><tr><td>&quot;F&quot;</td><td>10.0</td><td>0.448652</td></tr><tr><td>&quot;I&quot;</td><td>8.0</td><td>0.328382</td></tr><tr><td>&quot;M&quot;</td><td>10.0</td><td>0.438072</td></tr></tbody></table></div>"
      ],
      "text/plain": [
       "shape: (3, 3)\n",
       "┌─────┬───────┬──────────┐\n",
       "│ Sex ┆ Rings ┆ Diameter │\n",
       "│ --- ┆ ---   ┆ ---      │\n",
       "│ str ┆ f64   ┆ f64      │\n",
       "╞═════╪═══════╪══════════╡\n",
       "│ F   ┆ 10.0  ┆ 0.448652 │\n",
       "│ I   ┆ 8.0   ┆ 0.328382 │\n",
       "│ M   ┆ 10.0  ┆ 0.438072 │\n",
       "└─────┴───────┴──────────┘"
      ]
     },
     "execution_count": 137,
     "metadata": {},
     "output_type": "execute_result"
    }
   ],
   "source": [
    "%%time\n",
    "# Polars\n",
    "df_pl.groupby('Sex').agg([pl.median('Rings'), pl.mean('Diameter')])"
   ]
  },
  {
   "cell_type": "code",
   "execution_count": null,
   "id": "7274e9e5-46bf-4aca-bd60-7dfbebf6b90d",
   "metadata": {},
   "outputs": [],
   "source": []
  }
 ],
 "metadata": {
  "kernelspec": {
   "display_name": "Python 3 (ipykernel)",
   "language": "python",
   "name": "python3"
  },
  "language_info": {
   "codemirror_mode": {
    "name": "ipython",
    "version": 3
   },
   "file_extension": ".py",
   "mimetype": "text/x-python",
   "name": "python",
   "nbconvert_exporter": "python",
   "pygments_lexer": "ipython3",
   "version": "3.9.18"
  }
 },
 "nbformat": 4,
 "nbformat_minor": 5
}
